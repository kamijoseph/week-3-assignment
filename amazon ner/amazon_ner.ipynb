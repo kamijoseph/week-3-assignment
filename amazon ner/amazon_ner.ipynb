{
  "nbformat": 4,
  "nbformat_minor": 0,
  "metadata": {
    "colab": {
      "provenance": [],
      "gpuType": "T4",
      "authorship_tag": "ABX9TyNX+8GxnLr8E/taq1ECvEHr",
      "include_colab_link": true
    },
    "kernelspec": {
      "name": "python3",
      "display_name": "Python 3"
    },
    "language_info": {
      "name": "python"
    },
    "accelerator": "GPU"
  },
  "cells": [
    {
      "cell_type": "markdown",
      "metadata": {
        "id": "view-in-github",
        "colab_type": "text"
      },
      "source": [
        "<a href=\"https://colab.research.google.com/github/kamijoseph/week-3-assignment/blob/main/amazon_ner.ipynb\" target=\"_parent\"><img src=\"https://colab.research.google.com/assets/colab-badge.svg\" alt=\"Open In Colab\"/></a>"
      ]
    },
    {
      "cell_type": "code",
      "execution_count": 1,
      "metadata": {
        "colab": {
          "base_uri": "https://localhost:8080/",
          "height": 38
        },
        "id": "homvShu1h_1H",
        "outputId": "7b8be1ef-30d0-4e9d-85ea-3364244aab4b"
      },
      "outputs": [
        {
          "output_type": "execute_result",
          "data": {
            "text/plain": [
              "'\\namazon_review_ner_sentiment.py\\nNER and rule-based sentiment analysis on Amazon product reviews using spaCy.\\n'"
            ],
            "application/vnd.google.colaboratory.intrinsic+json": {
              "type": "string"
            }
          },
          "metadata": {},
          "execution_count": 1
        }
      ],
      "source": [
        "# NER and rule-based sentiment analysis on Amazon product reviews using spaCy."
      ]
    },
    {
      "cell_type": "code",
      "source": [
        "import spacy\n",
        "from collections import Counter"
      ],
      "metadata": {
        "id": "xvm75n_-iQbl"
      },
      "execution_count": 2,
      "outputs": []
    },
    {
      "cell_type": "code",
      "source": [
        "# loading sapcy model\n",
        "nlp = spacy.load(\"en_core_web_sm\")"
      ],
      "metadata": {
        "id": "-aL3WCfViaEy"
      },
      "execution_count": 3,
      "outputs": []
    },
    {
      "cell_type": "code",
      "source": [
        "#sample reviews\n",
        "reviews = [\n",
        "    \"The new Apple iPhone 15 is incredible — the camera quality is outstanding!\",\n",
        "    \"I’m disappointed with the Samsung Galaxy battery life; it drains too fast.\",\n",
        "    \"This Logitech keyboard feels premium and the keys are very comfortable.\",\n",
        "    \"Terrible experience with this Sony headset, the sound is muffled and cheap.\",\n",
        "    \"Amazon Echo works flawlessly, voice recognition is excellent!\"\n",
        "]"
      ],
      "metadata": {
        "id": "pyUfpFusik0i"
      },
      "execution_count": 4,
      "outputs": []
    },
    {
      "cell_type": "code",
      "source": [
        "# rule based sentiment analyzer\n",
        "positive_words = {\n",
        "    \"great\", \"excellent\", \"amazing\", \"good\", \"love\", \"perfect\", \"fantastic\",\n",
        "    \"incredible\", \"outstanding\", \"premium\", \"flawless\", \"comfortable\"\n",
        "}\n",
        "negative_words = {\n",
        "    \"bad\", \"terrible\", \"poor\", \"disappointed\", \"slow\", \"drains\", \"cheap\",\n",
        "    \"muffled\", \"horrible\", \"worst\", \"hate\"\n",
        "}"
      ],
      "metadata": {
        "id": "zRMUpDtHi1Ti"
      },
      "execution_count": 5,
      "outputs": []
    },
    {
      "cell_type": "code",
      "source": [
        "# sentiment analyser function\n",
        "def analyze_sentiment(text: str):\n",
        "    tokens = [t.lemma_.lower() for t in nlp(text)]\n",
        "    pos_count = sum(t in positive_words for t in tokens)\n",
        "    neg_count = sum(t in negative_words for t in tokens)\n",
        "    if pos_count > neg_count:\n",
        "        return \"Positive\"\n",
        "    elif neg_count > pos_count:\n",
        "        return \"Negative\"\n",
        "    else:\n",
        "        return \"Neutral\""
      ],
      "metadata": {
        "id": "EyucTQZFi7ZC"
      },
      "execution_count": 7,
      "outputs": []
    },
    {
      "cell_type": "code",
      "source": [
        "# preocessing reviews\n",
        "for idx, review in enumerate(reviews, 1):\n",
        "    doc = nlp(review)\n",
        "    entities = [(ent.text, ent.label_) for ent in doc.ents if ent.label_ in (\"ORG\", \"PRODUCT\")]\n",
        "    sentiment = analyze_sentiment(review)\n",
        "\n",
        "    print(f\"\\nReview {idx}: {review}\")\n",
        "    print(f\"  ➤ Entities: {entities if entities else 'None detected'}\")\n",
        "    print(f\"  ➤ Sentiment: {sentiment}\")"
      ],
      "metadata": {
        "colab": {
          "base_uri": "https://localhost:8080/"
        },
        "id": "x2dGlUxqjGPg",
        "outputId": "3e161a96-75ff-4f28-88f0-b8968cae1f0a"
      },
      "execution_count": 8,
      "outputs": [
        {
          "output_type": "stream",
          "name": "stdout",
          "text": [
            "\n",
            "Review 1: The new Apple iPhone 15 is incredible — the camera quality is outstanding!\n",
            "  ➤ Entities: [('Apple', 'ORG'), ('iPhone 15', 'PRODUCT')]\n",
            "  ➤ Sentiment: Positive\n",
            "\n",
            "Review 2: I’m disappointed with the Samsung Galaxy battery life; it drains too fast.\n",
            "  ➤ Entities: [('Samsung Galaxy', 'ORG')]\n",
            "  ➤ Sentiment: Neutral\n",
            "\n",
            "Review 3: This Logitech keyboard feels premium and the keys are very comfortable.\n",
            "  ➤ Entities: [('Logitech', 'ORG')]\n",
            "  ➤ Sentiment: Positive\n",
            "\n",
            "Review 4: Terrible experience with this Sony headset, the sound is muffled and cheap.\n",
            "  ➤ Entities: [('Sony', 'ORG')]\n",
            "  ➤ Sentiment: Negative\n",
            "\n",
            "Review 5: Amazon Echo works flawlessly, voice recognition is excellent!\n",
            "  ➤ Entities: [('Amazon Echo', 'ORG')]\n",
            "  ➤ Sentiment: Positive\n"
          ]
        }
      ]
    }
  ]
}